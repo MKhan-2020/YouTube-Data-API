{
 "cells": [
  {
   "cell_type": "code",
   "execution_count": 1,
   "id": "ae54103a-95a0-4c0f-89d3-53efd653b985",
   "metadata": {},
   "outputs": [],
   "source": [
    "from IPython.display import JSON"
   ]
  },
  {
   "cell_type": "code",
   "execution_count": 2,
   "id": "a24909e1-5439-4a94-86fd-2f925fa8a92d",
   "metadata": {},
   "outputs": [],
   "source": [
    "import pandas as pd\n",
    "import numpy as np\n",
    "from dateutil import parser\n",
    "\n",
    "#Data Visualization\n",
    "import matplotlib.pyplot as plt\n",
    "import matplotlib.ticker as ticker\n",
    "import seaborn as sns\n",
    "sns.set(style='darkgrid', color_codes=True)\n",
    "\n",
    "\n",
    "#Google API\n",
    "from googleapiclient.discovery import build"
   ]
  },
  {
   "cell_type": "code",
   "execution_count": 3,
   "id": "b48a689d-409f-4605-80f9-81f81f786f1f",
   "metadata": {},
   "outputs": [
    {
     "name": "stderr",
     "output_type": "stream",
     "text": [
      "[nltk_data] Downloading package stopwords to C:\\Users\\MZ\n",
      "[nltk_data]     Khan\\AppData\\Roaming\\nltk_data...\n",
      "[nltk_data]   Package stopwords is already up-to-date!\n",
      "[nltk_data] Downloading package punkt to C:\\Users\\MZ\n",
      "[nltk_data]     Khan\\AppData\\Roaming\\nltk_data...\n",
      "[nltk_data]   Package punkt is already up-to-date!\n"
     ]
    }
   ],
   "source": [
    "# NLP Libraries\n",
    "import wordcloud\n",
    "import nltk\n",
    "from nltk.corpus import stopwords\n",
    "from nltk.tokenize import word_tokenize\n",
    "nltk.download('stopwords')\n",
    "nltk.download('punkt')\n",
    "from wordcloud import WordCloud"
   ]
  },
  {
   "cell_type": "code",
   "execution_count": 4,
   "id": "12976590-02f6-4484-9541-2c745f018e1d",
   "metadata": {},
   "outputs": [],
   "source": [
    "api_key = 'Your API KEY'"
   ]
  },
  {
   "cell_type": "code",
   "execution_count": 5,
   "id": "480fe49c-080e-4909-8e2a-312bb55f1d52",
   "metadata": {},
   "outputs": [],
   "source": [
    "channel_ids = ['UC_mYaQAE6-71rjSN6CeCA-g']         #[\"UChfo46ZNOV-vtehDc25A1Ug\"] #  \"UCtYLUTtgS3k1Fg4y5tAhLbw\" can be more channel IDs"
   ]
  },
  {
   "cell_type": "code",
   "execution_count": 6,
   "id": "ce7bda70-ccdf-4f2a-b70a-75d97fc86299",
   "metadata": {},
   "outputs": [],
   "source": [
    "api_service_name = \"youtube\"\n",
    "api_version = \"v3\"\n",
    "\n",
    "\n",
    "# Get credentials and create an API client\n",
    "\n",
    "youtube = build(\n",
    "    api_service_name, api_version, developerKey=api_key)\n",
    "\n"
   ]
  },
  {
   "cell_type": "code",
   "execution_count": 7,
   "id": "97bdf51a-4b10-47b4-8a22-292007d55f21",
   "metadata": {},
   "outputs": [],
   "source": [
    " def get_channel(youtube, channel_ids):\n",
    "    all_data = []\n",
    "        \n",
    "    request = youtube.channels().list(\n",
    "        part=\"snippet,contentDetails,statistics\",\n",
    "        id=channel_ids\n",
    "    )\n",
    "    response = request.execute()\n",
    "    \n",
    "    for item in response['items']:\n",
    "        data = {'channelName':item['snippet']['title'], 'subscribers' : item['statistics']['subscriberCount'], \n",
    "                'views': item['statistics']['viewCount'], 'totalVideos' : item['statistics']['videoCount'],\n",
    "                'playlistId': item['contentDetails']['relatedPlaylists']['uploads']\n",
    "        }\n",
    "        all_data.append(data)\n",
    "        \n",
    "    return(pd.DataFrame(all_data))\n",
    "    "
   ]
  },
  {
   "cell_type": "code",
   "execution_count": 8,
   "id": "bdc68182-d18f-421f-a6ca-dd72bbcd8e18",
   "metadata": {},
   "outputs": [],
   "source": [
    "channel_stats = get_channel(youtube, channel_ids)"
   ]
  },
  {
   "cell_type": "code",
   "execution_count": 9,
   "id": "113af9bd-e324-4721-89d5-3ec3162d5b78",
   "metadata": {},
   "outputs": [
    {
     "data": {
      "text/html": [
       "<div>\n",
       "<style scoped>\n",
       "    .dataframe tbody tr th:only-of-type {\n",
       "        vertical-align: middle;\n",
       "    }\n",
       "\n",
       "    .dataframe tbody tr th {\n",
       "        vertical-align: top;\n",
       "    }\n",
       "\n",
       "    .dataframe thead th {\n",
       "        text-align: right;\n",
       "    }\n",
       "</style>\n",
       "<table border=\"1\" class=\"dataframe\">\n",
       "  <thead>\n",
       "    <tr style=\"text-align: right;\">\n",
       "      <th></th>\n",
       "      <th>channelName</th>\n",
       "      <th>subscribers</th>\n",
       "      <th>views</th>\n",
       "      <th>totalVideos</th>\n",
       "      <th>playlistId</th>\n",
       "    </tr>\n",
       "  </thead>\n",
       "  <tbody>\n",
       "    <tr>\n",
       "      <th>0</th>\n",
       "      <td>NeetCode</td>\n",
       "      <td>217000</td>\n",
       "      <td>15077407</td>\n",
       "      <td>329</td>\n",
       "      <td>UU_mYaQAE6-71rjSN6CeCA-g</td>\n",
       "    </tr>\n",
       "  </tbody>\n",
       "</table>\n",
       "</div>"
      ],
      "text/plain": [
       "  channelName subscribers     views totalVideos                playlistId\n",
       "0    NeetCode      217000  15077407         329  UU_mYaQAE6-71rjSN6CeCA-g"
      ]
     },
     "execution_count": 9,
     "metadata": {},
     "output_type": "execute_result"
    }
   ],
   "source": [
    "channel_stats"
   ]
  },
  {
   "cell_type": "code",
   "execution_count": 10,
   "id": "815e1ad9-dc4b-4cf6-86ae-bc5c27540934",
   "metadata": {},
   "outputs": [],
   "source": [
    "playlist_Id=  'UU_mYaQAE6-71rjSN6CeCA-g'    # 'UUhfo46ZNOV-vtehDc25A1Ug'  #  \"UUhfo46ZNOV-vtehDc25A1Ug\"\n",
    "\n",
    "def get_video_ids(youtube, playlist_Id):\n",
    "    \n",
    "    video_ids = []\n",
    "\n",
    "\n",
    "    request = youtube.playlistItems().list(\n",
    "         part=\"snippet,contentDetails\",\n",
    "         playlistId = playlist_Id,\n",
    "         maxResults=50\n",
    "        \n",
    "     )\n",
    "    response = request.execute()\n",
    "    \n",
    "    \n",
    "    \n",
    "    for item in response['items']:\n",
    "        video_ids.append(item['contentDetails']['videoId'])\n",
    "        \n",
    "        \n",
    "    next_page_token = response.get('nextPageToken')\n",
    "    while next_page_token is not None:\n",
    "        request = youtube.playlistItems().list(\n",
    "                  part=\"snippet,contentDetails\",\n",
    "                  playlistId = playlist_Id,\n",
    "                  maxResults=50, \n",
    "                  pageToken = next_page_token\n",
    "                )\n",
    "        \n",
    "        \n",
    "        response = request.execute()\n",
    "\n",
    "        for item in response['items']:\n",
    "            video_ids.append(item['contentDetails']['videoId'])\n",
    "        next_page_token = response.get('nextPageToken')\n",
    "        \n",
    "    return video_ids"
   ]
  },
  {
   "cell_type": "code",
   "execution_count": 11,
   "id": "b79e6583-eb25-4883-a00b-205067613cfa",
   "metadata": {},
   "outputs": [],
   "source": [
    "video_ids = get_video_ids(youtube, playlist_Id)"
   ]
  },
  {
   "cell_type": "code",
   "execution_count": 12,
   "id": "f331e3fb-35ff-4ff5-962b-c6792ae52e5a",
   "metadata": {},
   "outputs": [
    {
     "data": {
      "text/plain": [
       "['4G5t1HwHQD4',\n",
       " 'TKC98Sumg2A',\n",
       " 'VUVpTZVa7Ls',\n",
       " '5ueSge4n4bs',\n",
       " 'DmWirHqCq1s',\n",
       " 'RegQckCegDk',\n",
       " 'D4T2N0yAr20',\n",
       " 'PFRzAysTvpo',\n",
       " 'rMj6KnxZu5M',\n",
       " 'nalYyLZgvCY',\n",
       " 'KE8MQuwE2yA',\n",
       " 'qU32rTy_kOM',\n",
       " 'uhYq27iSk9s',\n",
       " 'q5ANAl8Z458',\n",
       " 'w6LcypDgC4w',\n",
       " 'bwgjvzMSlMQ',\n",
       " '4SUJt3dP2Jc',\n",
       " 'T53EyLPj4UM',\n",
       " '7vVEJwVvAlI',\n",
       " 'U4hFQCa1Cq0',\n",
       " 'nJYFh4Dl-as',\n",
       " 'Id_tqGdsZQI',\n",
       " 'Re_v0j0CRsg',\n",
       " '08sn_w4LWEE',\n",
       " 'aa2ijyWBBIc',\n",
       " 'JrxRYBwG6EI',\n",
       " '_d0T_2Lk2qA',\n",
       " 'YUF3_eBdzsk',\n",
       " 'RXy5RzGF5wo',\n",
       " 's4DPM8ct1pI',\n",
       " 'd-B_gk_gJtQ',\n",
       " 'XbaxWuHIWUs',\n",
       " 'gkINMhbbIbU',\n",
       " '68a1Dc_qVq4',\n",
       " 'Z6idIicFDOE',\n",
       " 'j4KwhBziOpg',\n",
       " 'FzTYfsmtOso',\n",
       " 'ft0owvS5tQA',\n",
       " 'evUFsOb_iLY',\n",
       " 'g_S5WuasWUE',\n",
       " '5rHz_6s2Buw',\n",
       " 'EYeR-_1NRlQ',\n",
       " 'OKcrLfR-8mE',\n",
       " 'VD9NACqBCw4',\n",
       " 'iu0082c4HDE',\n",
       " '8u-H6O_XQKE',\n",
       " 'WDx6Y4i4xJ8',\n",
       " 'nhAsMabiVkM',\n",
       " 'aBbsfn863oA',\n",
       " 'cFabMOnJaq0',\n",
       " 'Kk6mXAzqX3Y',\n",
       " 'vGsyTE4s34w',\n",
       " 'slYh0ZNEqSw',\n",
       " 'W_akoecmCbM',\n",
       " 'xW4QsTtaCa4',\n",
       " 'Cg_wWPHJ2Sk',\n",
       " 'o-YDQzHoaKM',\n",
       " 'QhPdNS143Qg',\n",
       " 'aYqYMIqZx5s',\n",
       " 'G9xeB2-7PqY',\n",
       " '8i-f24YFWC4',\n",
       " 'Pzg3bCDY87w',\n",
       " 'D0X0BONOQhI',\n",
       " 'YYX93BWqQY8',\n",
       " '6lH4nO3JfLk',\n",
       " 'qMPX1AOa83k',\n",
       " 'pNichitDD2E',\n",
       " 'u89i60lYx8U',\n",
       " '2g_b1aYTHeg',\n",
       " 'wCc_nd-GiEc',\n",
       " 'aayNRwUN3Do',\n",
       " 'Vn2v6ajA7U0',\n",
       " '7FCemBxvGw0',\n",
       " 'ZyB_gQ8vqGA',\n",
       " 'LSKQyOz_P8I',\n",
       " 'FPCZsG_AkUg',\n",
       " 'y704fEOx0s0',\n",
       " 's8p8ukTyA2I',\n",
       " 'Tuc-rjJbsXU',\n",
       " 'rW4vm0-DLYc',\n",
       " 'UbyhOgBN834',\n",
       " '7pnhv842keE',\n",
       " 'hUe0cUKV-YY',\n",
       " 'dDokMfPpfu4',\n",
       " 'in6QbUPMJ3I',\n",
       " 'JoF0Z7nVSrA',\n",
       " 'Gjkhm1gYIMw',\n",
       " 'u_by_cTsNJA',\n",
       " 'G8xtZy0fDKg',\n",
       " 'ZGxqqjljpUI',\n",
       " 'iJGr1OtmH0c',\n",
       " 'mBk4I0X46oI',\n",
       " 'jwt5mTjEXGc',\n",
       " 'p10f-VpO4nE',\n",
       " 'B7m8UmZE-vw',\n",
       " '3OamzN90kPg',\n",
       " 'hOjcdrqMoQ8',\n",
       " 'g0npyaQtAQM',\n",
       " 'gVUrDV4tZfY',\n",
       " '9UtInBqnCgA',\n",
       " 'Pr6T-3yB9RM',\n",
       " '5Km3utixwZs',\n",
       " '7yF-U1hLEqQ',\n",
       " 'nONCGxWoUfM',\n",
       " 'I7j0F7AHpb8',\n",
       " 'jJXJ16kPFWg',\n",
       " 'fu2cD_6E8Hw',\n",
       " 'E36O5SWp-LE',\n",
       " 'uhgdXOlGYqE',\n",
       " '61tN4YEdiTM',\n",
       " 'ktmzAZWkEZ0',\n",
       " '86yKkaNi3sU',\n",
       " 'RF_M9tX4Eag',\n",
       " 'TC_xLIWl7qY',\n",
       " 'N4wDSOw65hI',\n",
       " 'd4SPuvkaeoo',\n",
       " 'ohBNdSJyLh8',\n",
       " 'nZtrZPTTCAo',\n",
       " 'bahebearrDc',\n",
       " 'rKnD7rLT0lI',\n",
       " 'Pcd1ii9P9ZI',\n",
       " 'aoHbYlO8vDg',\n",
       " 'lEQ8ZlLOuyQ',\n",
       " 'KT9rltZTybQ',\n",
       " '4pY1bsBpIY4',\n",
       " 'M0Zay1Qr9ws',\n",
       " 'DEJAZBq0FDA',\n",
       " 'qK4PtjrVD0U',\n",
       " '0sWShKIJoo4',\n",
       " '5eIK3zUdYmE',\n",
       " 'q0s6m7AiM7o',\n",
       " '3jdxYj3DD98',\n",
       " 'lRCaNiqO3xI',\n",
       " 'JU5XdBZZtlk',\n",
       " 'QfJsau0ItOY',\n",
       " 'XEmy13g1Qxc',\n",
       " 'Mjy4hd2xgrs',\n",
       " 'Q2Tw6gcVEwc',\n",
       " 'aHqn4Dynd1k',\n",
       " 'g9YQyYi4IQQ',\n",
       " 'yubRKwixN-U',\n",
       " 'A__UXuFjOrA',\n",
       " 'HAgLH58IgJQ',\n",
       " '9z2BunfoZ5Y',\n",
       " 'Wmb3YdVYfqM',\n",
       " 'izRDc1il9Pk',\n",
       " 'nPVEaB3AjUM',\n",
       " 'utDu3Q7Flrw',\n",
       " '3YDBT9ZrfaU',\n",
       " 'KxK33AcQZpQ',\n",
       " 'B-QCq79-Vfw',\n",
       " 'qB0zZpBJlh8',\n",
       " 'WnPLSRLSANE',\n",
       " 'nKv2LnC_g6E',\n",
       " 'A8NUOmlwOlM',\n",
       " 'pGMsrvt0fpk',\n",
       " 'B1k_sxOSgv8',\n",
       " 'rSA3t6BDDwg',\n",
       " 'BHr381Guz3Y',\n",
       " '3THUt0vAFLU',\n",
       " 'UcoN6UjAI64',\n",
       " '1vZswirL8Y8',\n",
       " '6aEyTjOwlJU',\n",
       " 'nIVW4P8b1VA',\n",
       " 'mBNrRy2_hVs',\n",
       " 'TjFXEUCMqI8',\n",
       " '6QQRayzOTD4',\n",
       " '-w67-4tnH5U',\n",
       " 'rI2EBUEMfTk',\n",
       " 'S5bfdUTrKLM',\n",
       " 'OVgPAJIyX6o',\n",
       " 'TsA4vbtfCvo',\n",
       " '7cp5imvDzl4',\n",
       " 'fei4bJQdBUQ',\n",
       " '4v42XOuU1XA',\n",
       " 'h9iTnkgv05E',\n",
       " 'Ber2pi2C0j0',\n",
       " '4xbWSRZHqac',\n",
       " 'qkLl7nAwDPo',\n",
       " '3Rw3p9LrgvE',\n",
       " 'e69C6xhiSQE',\n",
       " 'amvrKlMLuGY',\n",
       " 'mLpW3qfbNJ8',\n",
       " 'cTBiBSnjO3c',\n",
       " 'gBTe7lFR3vc',\n",
       " 'LziQ6Qx9sks',\n",
       " 'fFVZt-6sgyo',\n",
       " 'Ph95IHmRp5M',\n",
       " 'wjYnzkAhcNk',\n",
       " 'NMP3nRPyX5g',\n",
       " 'kShkQLQZ9K4',\n",
       " 'f7JOBJIC-NA',\n",
       " 'hTM3phVI6YQ',\n",
       " '6kTZYvNNyps',\n",
       " '8f1XPm4WOUc',\n",
       " 'asbcE9mZz_U',\n",
       " 'RyBM56RIWrM',\n",
       " 'MOeuK6gaC2A',\n",
       " 'Y0lT9Fck7qI',\n",
       " 'hsomLb6mUdI',\n",
       " 'Hr5cWUld4vU',\n",
       " 'BTf05gs_8iU',\n",
       " 'GBKI9VSKdGg',\n",
       " '4RACzI5-du8',\n",
       " 'XKA22PecuMQ',\n",
       " 's-VkcjHqkGI',\n",
       " 'bXsUuownnoQ',\n",
       " 'gqXU1UyA8pk',\n",
       " 'bNvIQI2wAjk',\n",
       " 'gs2LMfuOR9k',\n",
       " 'FdzJmTCVyJU',\n",
       " 'v1HpZUnQ4Yo',\n",
       " 'PaJxqZVPhbg',\n",
       " 'amnrMCVd2YI',\n",
       " 'Sx9NNgInc3A',\n",
       " 'IsvocB5BJhw',\n",
       " 'u4JAi2JJhI8',\n",
       " 'FXWRE67PLL0',\n",
       " 'O761YBjGxGA',\n",
       " 'U2SozAs9RzA',\n",
       " 'YPTqKIgVk-k',\n",
       " 'VFskby7lUbw',\n",
       " '3SJ3pUkPQMc',\n",
       " 'dw2nMCxG0ik',\n",
       " '-RDzMJ33nx8',\n",
       " 'YLesLbNkyjA',\n",
       " 'XYi2-LPrwm4',\n",
       " '8g78yfzMlao',\n",
       " 'HLZLwjzIVGo',\n",
       " 'jIaA8boiG1s',\n",
       " '5hQ5WWW5awQ',\n",
       " 'lJwbPZGo05A',\n",
       " 'eDtMmysldaw',\n",
       " 'ahobllKXEEY',\n",
       " 'vRbbcKXCxOw',\n",
       " 'EaphyqKU4PQ',\n",
       " 'vgBrQ0NM5vE',\n",
       " 'oobqoCJlHA0',\n",
       " 'Kkmv2h48ekw',\n",
       " 'keuWJ47xG8g',\n",
       " 'pfiQ_PS1g8E',\n",
       " 'WTzjTskDFMg',\n",
       " 'RR1n-d4oYqE',\n",
       " 'ihj4IQGZ2zc',\n",
       " 'dJ7sWiOoK7g',\n",
       " 'qYlHrAKJfyA',\n",
       " 'UcGtPs2LE_c',\n",
       " 'VyBOaboQLGc',\n",
       " 'Yan0cv2cLy8',\n",
       " 'ZI2z5pq0TqA',\n",
       " '5Y2EiZST97Y',\n",
       " '6ZnyEApgFYg',\n",
       " 'Ua0GhsJSlWM',\n",
       " '99RVfqklbCE',\n",
       " 'rWAJCfYYOvM',\n",
       " 'fISIuAFRM2s',\n",
       " 'nHR8ytpzz7c',\n",
       " 'bkxqA8Rfv04',\n",
       " 'LN7KjRszjk4',\n",
       " '0snEunUacZY',\n",
       " '5LUXSvjmGCw',\n",
       " 's9fokUqJ76A',\n",
       " '4sQL7R5ySUU',\n",
       " 'QHH6rIK3dDQ',\n",
       " 'KT1iUciJr4g',\n",
       " 'HAA8mgxlov8',\n",
       " 'mQeF6bN8hMk',\n",
       " 'd4zLyf32e3I',\n",
       " 'OnSn2XEQ4MY',\n",
       " 'TGveA1oFhrc',\n",
       " 'itmhHWaHupI',\n",
       " 'qhBVWf0YafA',\n",
       " '0K0uCMYq5ng',\n",
       " '3jvWodd7ht0',\n",
       " 'fMSJSS7eO1w',\n",
       " 'IlEsdxuD4lY',\n",
       " 'REOH22Xwdkk',\n",
       " 'jSto0O4AJbM',\n",
       " 'BJnMZNwUk1M',\n",
       " 'q6IEA26hvXc',\n",
       " 'Akt3glAwyfY',\n",
       " '44H3cEC2fFM',\n",
       " 'T41rL0L3Pnw',\n",
       " 'vzdNOK2oB2E',\n",
       " 'cjWnW0hdF1Y',\n",
       " 's6ATEkipzow',\n",
       " '1UOPsfP85V4',\n",
       " 'H9bfqozjoqs',\n",
       " 'EgI5nU9etnU',\n",
       " 'DfljaUwZsOk',\n",
       " 'lXVy6YWFcRM',\n",
       " 'OM1MTokvxs4',\n",
       " 'o811TZLAWOo',\n",
       " '6X7Ha2PrDmM',\n",
       " 'XVuQxVej6y8',\n",
       " 'LHweCQVw9gk',\n",
       " 'FSSKteJmWMs',\n",
       " 'JI71sxtHTng',\n",
       " 'G0_I-ZF0S38',\n",
       " '7ABFKPK2hD4',\n",
       " '1pkOgXD63yU',\n",
       " 's7AvT7cGdSo',\n",
       " 'P1Ic85RarKY',\n",
       " 'yOzXms1J6Nk',\n",
       " 'emNkJGwcusQ',\n",
       " 'K-RYzDZkzCI',\n",
       " 'ljz85bxOYJ0',\n",
       " 'UuiTKBwPgAo',\n",
       " 'SVvr3ZjtjI8',\n",
       " 'q5a5OiGbT6Q',\n",
       " 'XIdigk956u0',\n",
       " 'wgFPrzTjm7s',\n",
       " 'XYQecbcd6_c',\n",
       " '6jf6SK9qWBc',\n",
       " 'xCsIkPLS4Ls',\n",
       " 'wiGpQwVHdE0',\n",
       " 'Jk16lZGFWxE',\n",
       " 'jzZsG8n2R9A',\n",
       " 'Ox0TenN3Zpg',\n",
       " '73r3KWiEvyk',\n",
       " 'U8XENwh8Oy8',\n",
       " 'pV2kpPD66nE',\n",
       " '5WZl3MMT0Eg',\n",
       " 'cQ1Oz4ckceM',\n",
       " 'KLlXCFG5TnA',\n",
       " 'zx5Sw9130L0',\n",
       " 'P6RZZMu_maU',\n",
       " 'm17yOR5_PpI',\n",
       " 'ZHjKhUjcsaU']"
      ]
     },
     "execution_count": 12,
     "metadata": {},
     "output_type": "execute_result"
    }
   ],
   "source": [
    "video_ids"
   ]
  },
  {
   "cell_type": "code",
   "execution_count": 13,
   "id": "356cfcbf-16d7-474e-8f28-e3d224d666eb",
   "metadata": {},
   "outputs": [
    {
     "data": {
      "text/plain": [
       "329"
      ]
     },
     "execution_count": 13,
     "metadata": {},
     "output_type": "execute_result"
    }
   ],
   "source": [
    "len(video_ids)"
   ]
  },
  {
   "cell_type": "code",
   "execution_count": 14,
   "id": "9307654d-20a7-4dba-9be6-e1cb42f78e66",
   "metadata": {},
   "outputs": [
    {
     "data": {
      "application/json": {
       "etag": "_eV4sDqM7AuC3eHeU42I02A6fSc",
       "items": [
        {
         "contentDetails": {
          "caption": "false",
          "contentRating": {},
          "definition": "hd",
          "dimension": "2d",
          "duration": "PT13M15S",
          "licensedContent": true,
          "projection": "rectangular"
         },
         "etag": "75Z0Iun8J4aAioQI5d1CQEtw9lk",
         "id": "4G5t1HwHQD4",
         "kind": "youtube#video",
         "snippet": {
          "categoryId": "28",
          "channelId": "UC_mYaQAE6-71rjSN6CeCA-g",
          "channelTitle": "NeetCode",
          "description": "🚀 https://neetcode.io/ - 25% OFF LAUNCH SALE\n\n🥷 Discord: https://discord.gg/ddjKRXPqtk\n🐦 Twitter: https://twitter.com/neetcode1\n\n0:00 - Intro\n0:26 - Frontend\n2:55 - Backend\n6:35 - Database\n8:55 - Payments API\n11:40 - Course platforms\n\n#neetcode #coding #saas",
          "liveBroadcastContent": "none",
          "localized": {
           "description": "🚀 https://neetcode.io/ - 25% OFF LAUNCH SALE\n\n🥷 Discord: https://discord.gg/ddjKRXPqtk\n🐦 Twitter: https://twitter.com/neetcode1\n\n0:00 - Intro\n0:26 - Frontend\n2:55 - Backend\n6:35 - Database\n8:55 - Payments API\n11:40 - Course platforms\n\n#neetcode #coding #saas",
           "title": "How I Coded a SaaS"
          },
          "publishedAt": "2022-09-04T15:00:02Z",
          "thumbnails": {
           "default": {
            "height": 90,
            "url": "https://i.ytimg.com/vi/4G5t1HwHQD4/default.jpg",
            "width": 120
           },
           "high": {
            "height": 360,
            "url": "https://i.ytimg.com/vi/4G5t1HwHQD4/hqdefault.jpg",
            "width": 480
           },
           "maxres": {
            "height": 720,
            "url": "https://i.ytimg.com/vi/4G5t1HwHQD4/maxresdefault.jpg",
            "width": 1280
           },
           "medium": {
            "height": 180,
            "url": "https://i.ytimg.com/vi/4G5t1HwHQD4/mqdefault.jpg",
            "width": 320
           },
           "standard": {
            "height": 480,
            "url": "https://i.ytimg.com/vi/4G5t1HwHQD4/sddefault.jpg",
            "width": 640
           }
          },
          "title": "How I Coded a SaaS"
         },
         "statistics": {
          "commentCount": "15",
          "favoriteCount": "0",
          "likeCount": "158",
          "viewCount": "1585"
         }
        },
        {
         "contentDetails": {
          "caption": "false",
          "contentRating": {},
          "definition": "hd",
          "dimension": "2d",
          "duration": "PT5M20S",
          "licensedContent": true,
          "projection": "rectangular"
         },
         "etag": "6Ln8WelcNOX7mddY8qKpT3daJgc",
         "id": "TKC98Sumg2A",
         "kind": "youtube#video",
         "snippet": {
          "categoryId": "28",
          "channelId": "UC_mYaQAE6-71rjSN6CeCA-g",
          "channelTitle": "NeetCode",
          "description": "🚀 https://neetcode.io/ - 25% OFF LAUNCH SALE\n\n🥷 Discord: https://discord.gg/ddjKRXPqtk\n🐦 Twitter: https://twitter.com/neetcode1\n\n🐮 Support the channel: https://www.patreon.com/NEETcode\n\n⭐ BLIND-75 PLAYLIST: https://www.youtube.com/watch?v=KLlXCFG5TnA&list=PLot-Xpze53ldVwtstag2TL4HQhAnC8ATf\n💡 DYNAMIC PROGRAMMING PLAYLIST: https://www.youtube.com/watch?v=73r3KWiEvyk&list=PLot-Xpze53lcvx_tjrr_m2lgD2NsRHlNO&index=1\n\nAlgorithms and data structures for beginners\n#neetcode #coding #interview",
          "liveBroadcastContent": "none",
          "localized": {
           "description": "🚀 https://neetcode.io/ - 25% OFF LAUNCH SALE\n\n🥷 Discord: https://discord.gg/ddjKRXPqtk\n🐦 Twitter: https://twitter.com/neetcode1\n\n🐮 Support the channel: https://www.patreon.com/NEETcode\n\n⭐ BLIND-75 PLAYLIST: https://www.youtube.com/watch?v=KLlXCFG5TnA&list=PLot-Xpze53ldVwtstag2TL4HQhAnC8ATf\n💡 DYNAMIC PROGRAMMING PLAYLIST: https://www.youtube.com/watch?v=73r3KWiEvyk&list=PLot-Xpze53lcvx_tjrr_m2lgD2NsRHlNO&index=1\n\nAlgorithms and data structures for beginners\n#neetcode #coding #interview",
           "title": "CHANGE YOUR LIFE - Algorithms and Data Structures for Beginners"
          },
          "publishedAt": "2022-08-30T14:00:13Z",
          "thumbnails": {
           "default": {
            "height": 90,
            "url": "https://i.ytimg.com/vi/TKC98Sumg2A/default.jpg",
            "width": 120
           },
           "high": {
            "height": 360,
            "url": "https://i.ytimg.com/vi/TKC98Sumg2A/hqdefault.jpg",
            "width": 480
           },
           "medium": {
            "height": 180,
            "url": "https://i.ytimg.com/vi/TKC98Sumg2A/mqdefault.jpg",
            "width": 320
           }
          },
          "title": "CHANGE YOUR LIFE - Algorithms and Data Structures for Beginners"
         },
         "statistics": {
          "commentCount": "148",
          "favoriteCount": "0",
          "likeCount": "1164",
          "viewCount": "22680"
         }
        },
        {
         "contentDetails": {
          "caption": "false",
          "contentRating": {},
          "definition": "hd",
          "dimension": "2d",
          "duration": "PT11M46S",
          "licensedContent": true,
          "projection": "rectangular"
         },
         "etag": "qPHwQvkA2JjdAJlkNsFfM-q6sGI",
         "id": "VUVpTZVa7Ls",
         "kind": "youtube#video",
         "snippet": {
          "categoryId": "28",
          "channelId": "UC_mYaQAE6-71rjSN6CeCA-g",
          "channelTitle": "NeetCode",
          "description": "🚀 https://neetcode.io/ - A better way to prepare for Coding Interviews\n\n🥷 Discord: https://discord.gg/ddjKRXPqtk\n🐦 Twitter: https://twitter.com/neetcode1\n\n🐮 Support the channel: https://www.patreon.com/NEETcode\n\n⭐ BLIND-75 PLAYLIST: https://www.youtube.com/watch?v=KLlXCFG5TnA&list=PLot-Xpze53ldVwtstag2TL4HQhAnC8ATf\n💡 DYNAMIC PROGRAMMING PLAYLIST: https://www.youtube.com/watch?v=73r3KWiEvyk&list=PLot-Xpze53lcvx_tjrr_m2lgD2NsRHlNO&index=1\n\nProblem Link: https://leetcode.com/problems/count-vowels-permutation/\n\n0:00 - Read the problem\n1:20 - Drawing Explanation\n8:02 - Coding Explanation\n\nleetcode 1220\n\n\n#dynamic #programming #python\nDisclosure: Some of the links above may be affiliate links, from which I may earn a small commission.",
          "liveBroadcastContent": "none",
          "localized": {
           "description": "🚀 https://neetcode.io/ - A better way to prepare for Coding Interviews\n\n🥷 Discord: https://discord.gg/ddjKRXPqtk\n🐦 Twitter: https://twitter.com/neetcode1\n\n🐮 Support the channel: https://www.patreon.com/NEETcode\n\n⭐ BLIND-75 PLAYLIST: https://www.youtube.com/watch?v=KLlXCFG5TnA&list=PLot-Xpze53ldVwtstag2TL4HQhAnC8ATf\n💡 DYNAMIC PROGRAMMING PLAYLIST: https://www.youtube.com/watch?v=73r3KWiEvyk&list=PLot-Xpze53lcvx_tjrr_m2lgD2NsRHlNO&index=1\n\nProblem Link: https://leetcode.com/problems/count-vowels-permutation/\n\n0:00 - Read the problem\n1:20 - Drawing Explanation\n8:02 - Coding Explanation\n\nleetcode 1220\n\n\n#dynamic #programming #python\nDisclosure: Some of the links above may be affiliate links, from which I may earn a small commission.",
           "title": "Count Vowels Permutation - Dynamic Programming - Leetcode 1220 - Python"
          },
          "publishedAt": "2022-08-07T01:47:15Z",
          "thumbnails": {
           "default": {
            "height": 90,
            "url": "https://i.ytimg.com/vi/VUVpTZVa7Ls/default.jpg",
            "width": 120
           },
           "high": {
            "height": 360,
            "url": "https://i.ytimg.com/vi/VUVpTZVa7Ls/hqdefault.jpg",
            "width": 480
           },
           "maxres": {
            "height": 720,
            "url": "https://i.ytimg.com/vi/VUVpTZVa7Ls/maxresdefault.jpg",
            "width": 1280
           },
           "medium": {
            "height": 180,
            "url": "https://i.ytimg.com/vi/VUVpTZVa7Ls/mqdefault.jpg",
            "width": 320
           },
           "standard": {
            "height": 480,
            "url": "https://i.ytimg.com/vi/VUVpTZVa7Ls/sddefault.jpg",
            "width": 640
           }
          },
          "title": "Count Vowels Permutation - Dynamic Programming - Leetcode 1220 - Python"
         },
         "statistics": {
          "commentCount": "112",
          "favoriteCount": "0",
          "likeCount": "842",
          "viewCount": "24472"
         }
        },
        {
         "contentDetails": {
          "caption": "false",
          "contentRating": {},
          "definition": "hd",
          "dimension": "2d",
          "duration": "PT7M15S",
          "licensedContent": true,
          "projection": "rectangular"
         },
         "etag": "ch0pGmqoXqpT7_Jz18BuTIrKeJ8",
         "id": "5ueSge4n4bs",
         "kind": "youtube#video",
         "snippet": {
          "categoryId": "28",
          "channelId": "UC_mYaQAE6-71rjSN6CeCA-g",
          "channelTitle": "NeetCode",
          "description": "🚀 https://neetcode.io/ - A better way to prepare for Coding Interviews\n\n🥷 Discord: https://discord.gg/ddjKRXPqtk\n🐦 Twitter: https://twitter.com/neetcode1\n\n🐮 Support the channel: https://www.patreon.com/NEETcode\n\n⭐ BLIND-75 PLAYLIST: https://www.youtube.com/watch?v=KLlXCFG5TnA&list=PLot-Xpze53ldVwtstag2TL4HQhAnC8ATf\n💡 DYNAMIC PROGRAMMING PLAYLIST: https://www.youtube.com/watch?v=73r3KWiEvyk&list=PLot-Xpze53lcvx_tjrr_m2lgD2NsRHlNO&index=1\n\n0:00 - Intro\n0:35 - Frontend\n2:05 - Backend\n5:45 - Internal tools\n\n#google #neetcode #techstack\nDisclosure: Some of the links above may be affiliate links, from which I may earn a small commission.",
          "liveBroadcastContent": "none",
          "localized": {
           "description": "🚀 https://neetcode.io/ - A better way to prepare for Coding Interviews\n\n🥷 Discord: https://discord.gg/ddjKRXPqtk\n🐦 Twitter: https://twitter.com/neetcode1\n\n🐮 Support the channel: https://www.patreon.com/NEETcode\n\n⭐ BLIND-75 PLAYLIST: https://www.youtube.com/watch?v=KLlXCFG5TnA&list=PLot-Xpze53ldVwtstag2TL4HQhAnC8ATf\n💡 DYNAMIC PROGRAMMING PLAYLIST: https://www.youtube.com/watch?v=73r3KWiEvyk&list=PLot-Xpze53lcvx_tjrr_m2lgD2NsRHlNO&index=1\n\n0:00 - Intro\n0:35 - Frontend\n2:05 - Backend\n5:45 - Internal tools\n\n#google #neetcode #techstack\nDisclosure: Some of the links above may be affiliate links, from which I may earn a small commission.",
           "title": "Working at Google - Tech Stack I Use as a Software Engineer"
          },
          "publishedAt": "2022-07-19T14:00:08Z",
          "thumbnails": {
           "default": {
            "height": 90,
            "url": "https://i.ytimg.com/vi/5ueSge4n4bs/default.jpg",
            "width": 120
           },
           "high": {
            "height": 360,
            "url": "https://i.ytimg.com/vi/5ueSge4n4bs/hqdefault.jpg",
            "width": 480
           },
           "medium": {
            "height": 180,
            "url": "https://i.ytimg.com/vi/5ueSge4n4bs/mqdefault.jpg",
            "width": 320
           }
          },
          "title": "Working at Google - Tech Stack I Use as a Software Engineer"
         },
         "statistics": {
          "commentCount": "377",
          "favoriteCount": "0",
          "likeCount": "5023",
          "viewCount": "183891"
         }
        },
        {
         "contentDetails": {
          "caption": "false",
          "contentRating": {},
          "definition": "hd",
          "dimension": "2d",
          "duration": "PT6M25S",
          "licensedContent": true,
          "projection": "rectangular"
         },
         "etag": "aLlOLxGELr5QooI-DQ9DWhQ95Bc",
         "id": "DmWirHqCq1s",
         "kind": "youtube#video",
         "snippet": {
          "categoryId": "28",
          "channelId": "UC_mYaQAE6-71rjSN6CeCA-g",
          "channelTitle": "NeetCode",
          "description": "🚀 https://neetcode.io/ - A better way to prepare for Coding Interviews\n\n🥷 Discord: https://discord.gg/ddjKRXPqtk\n🐦 Twitter: https://twitter.com/neetcode1\n\n🐮 Support the channel: https://www.patreon.com/NEETcode\n\n⭐ BLIND-75 PLAYLIST: https://www.youtube.com/watch?v=KLlXCFG5TnA&list=PLot-Xpze53ldVwtstag2TL4HQhAnC8ATf\n💡 DYNAMIC PROGRAMMING PLAYLIST: https://www.youtube.com/watch?v=73r3KWiEvyk&list=PLot-Xpze53lcvx_tjrr_m2lgD2NsRHlNO&index=1\n\n\n0:00 - Intro\n0:22 - Login\n1:45 - More features\n3:10 - Future changes\n3:55 - Responsiveness\n4:30 - Development challenges\n5:10 - Viewer response :)\n\n#neetcode #neetcodeio #python",
          "liveBroadcastContent": "none",
          "localized": {
           "description": "🚀 https://neetcode.io/ - A better way to prepare for Coding Interviews\n\n🥷 Discord: https://discord.gg/ddjKRXPqtk\n🐦 Twitter: https://twitter.com/neetcode1\n\n🐮 Support the channel: https://www.patreon.com/NEETcode\n\n⭐ BLIND-75 PLAYLIST: https://www.youtube.com/watch?v=KLlXCFG5TnA&list=PLot-Xpze53ldVwtstag2TL4HQhAnC8ATf\n💡 DYNAMIC PROGRAMMING PLAYLIST: https://www.youtube.com/watch?v=73r3KWiEvyk&list=PLot-Xpze53lcvx_tjrr_m2lgD2NsRHlNO&index=1\n\n\n0:00 - Intro\n0:22 - Login\n1:45 - More features\n3:10 - Future changes\n3:55 - Responsiveness\n4:30 - Development challenges\n5:10 - Viewer response :)\n\n#neetcode #neetcodeio #python",
           "title": "Best FREE site for coding interviews"
          },
          "publishedAt": "2022-07-06T15:00:06Z",
          "thumbnails": {
           "default": {
            "height": 90,
            "url": "https://i.ytimg.com/vi/DmWirHqCq1s/default.jpg",
            "width": 120
           },
           "high": {
            "height": 360,
            "url": "https://i.ytimg.com/vi/DmWirHqCq1s/hqdefault.jpg",
            "width": 480
           },
           "maxres": {
            "height": 720,
            "url": "https://i.ytimg.com/vi/DmWirHqCq1s/maxresdefault.jpg",
            "width": 1280
           },
           "medium": {
            "height": 180,
            "url": "https://i.ytimg.com/vi/DmWirHqCq1s/mqdefault.jpg",
            "width": 320
           },
           "standard": {
            "height": 480,
            "url": "https://i.ytimg.com/vi/DmWirHqCq1s/sddefault.jpg",
            "width": 640
           }
          },
          "title": "Best FREE site for coding interviews"
         },
         "statistics": {
          "commentCount": "343",
          "favoriteCount": "0",
          "likeCount": "2684",
          "viewCount": "36040"
         }
        }
       ],
       "kind": "youtube#videoListResponse",
       "pageInfo": {
        "resultsPerPage": 5,
        "totalResults": 5
       }
      },
      "text/plain": [
       "<IPython.core.display.JSON object>"
      ]
     },
     "execution_count": 14,
     "metadata": {
      "application/json": {
       "expanded": false,
       "root": "root"
      }
     },
     "output_type": "execute_result"
    }
   ],
   "source": [
    "request = youtube.videos().list(\n",
    "    part=\"snippet,contentDetails,statistics\",\n",
    "    id=video_ids[0:5]\n",
    ")\n",
    "response = request.execute()\n",
    "\n",
    "JSON(response)"
   ]
  },
  {
   "cell_type": "code",
   "execution_count": 15,
   "id": "943a61c3-c465-4211-a2da-13dd20fa3c55",
   "metadata": {},
   "outputs": [],
   "source": [
    "def get_video_details(youtube, video_ids):\n",
    "\n",
    "    all_video_info = []\n",
    "\n",
    "    for i in range(0, len(video_ids), 50):\n",
    "        request = youtube.videos().list(\n",
    "            part=\"snippet,contentDetails,statistics\",\n",
    "            id=','.join(video_ids[i:i+50])\n",
    "        )\n",
    "        response = request.execute()\n",
    "\n",
    "        for video in response['items']:\n",
    "            stats_to_keep = {'snippet': ['channelTitle', 'title', 'description','tags', 'publishedAt'],\n",
    "                            'statistics':['viewCount', 'likeCount', 'favouritrCount', 'commentCount'],\n",
    "                            'contentDetails': ['duration', 'defination', 'caption']\n",
    "                            }\n",
    "\n",
    "            video_info = {}\n",
    "            video_info['video_id']= video['id']\n",
    "\n",
    "            for k in stats_to_keep.keys():\n",
    "                for v in stats_to_keep[k]:\n",
    "                    #print(v[:10])\n",
    "\n",
    "                    try:\n",
    "                        video_info[v] = video[k][v]\n",
    "                        #print(video_info)\n",
    "                    except:\n",
    "                            video_info[v] = None\n",
    "\n",
    "            all_video_info.append(video_info)\n",
    "        return pd.DataFrame(all_video_info)                        \n",
    "\n"
   ]
  },
  {
   "cell_type": "code",
   "execution_count": 16,
   "id": "5235c235-b3be-44ec-b8a3-3dba61094f7e",
   "metadata": {},
   "outputs": [
    {
     "data": {
      "text/html": [
       "<div>\n",
       "<style scoped>\n",
       "    .dataframe tbody tr th:only-of-type {\n",
       "        vertical-align: middle;\n",
       "    }\n",
       "\n",
       "    .dataframe tbody tr th {\n",
       "        vertical-align: top;\n",
       "    }\n",
       "\n",
       "    .dataframe thead th {\n",
       "        text-align: right;\n",
       "    }\n",
       "</style>\n",
       "<table border=\"1\" class=\"dataframe\">\n",
       "  <thead>\n",
       "    <tr style=\"text-align: right;\">\n",
       "      <th></th>\n",
       "      <th>video_id</th>\n",
       "      <th>channelTitle</th>\n",
       "      <th>title</th>\n",
       "      <th>description</th>\n",
       "      <th>tags</th>\n",
       "      <th>publishedAt</th>\n",
       "      <th>viewCount</th>\n",
       "      <th>likeCount</th>\n",
       "      <th>favouritrCount</th>\n",
       "      <th>commentCount</th>\n",
       "      <th>duration</th>\n",
       "      <th>defination</th>\n",
       "      <th>caption</th>\n",
       "    </tr>\n",
       "  </thead>\n",
       "  <tbody>\n",
       "    <tr>\n",
       "      <th>0</th>\n",
       "      <td>4G5t1HwHQD4</td>\n",
       "      <td>NeetCode</td>\n",
       "      <td>How I Coded a SaaS</td>\n",
       "      <td>🚀 https://neetcode.io/ - 25% OFF LAUNCH SALE\\n...</td>\n",
       "      <td>None</td>\n",
       "      <td>2022-09-04T15:00:02Z</td>\n",
       "      <td>1585</td>\n",
       "      <td>158</td>\n",
       "      <td>None</td>\n",
       "      <td>16</td>\n",
       "      <td>PT13M15S</td>\n",
       "      <td>None</td>\n",
       "      <td>false</td>\n",
       "    </tr>\n",
       "    <tr>\n",
       "      <th>1</th>\n",
       "      <td>TKC98Sumg2A</td>\n",
       "      <td>NeetCode</td>\n",
       "      <td>CHANGE YOUR LIFE - Algorithms and Data Structu...</td>\n",
       "      <td>🚀 https://neetcode.io/ - 25% OFF LAUNCH SALE\\n...</td>\n",
       "      <td>None</td>\n",
       "      <td>2022-08-30T14:00:13Z</td>\n",
       "      <td>22688</td>\n",
       "      <td>1164</td>\n",
       "      <td>None</td>\n",
       "      <td>148</td>\n",
       "      <td>PT5M20S</td>\n",
       "      <td>None</td>\n",
       "      <td>false</td>\n",
       "    </tr>\n",
       "    <tr>\n",
       "      <th>2</th>\n",
       "      <td>VUVpTZVa7Ls</td>\n",
       "      <td>NeetCode</td>\n",
       "      <td>Count Vowels Permutation - Dynamic Programming...</td>\n",
       "      <td>🚀 https://neetcode.io/ - A better way to prepa...</td>\n",
       "      <td>None</td>\n",
       "      <td>2022-08-07T01:47:15Z</td>\n",
       "      <td>24472</td>\n",
       "      <td>842</td>\n",
       "      <td>None</td>\n",
       "      <td>112</td>\n",
       "      <td>PT11M46S</td>\n",
       "      <td>None</td>\n",
       "      <td>false</td>\n",
       "    </tr>\n",
       "    <tr>\n",
       "      <th>3</th>\n",
       "      <td>5ueSge4n4bs</td>\n",
       "      <td>NeetCode</td>\n",
       "      <td>Working at Google - Tech Stack I Use as a Soft...</td>\n",
       "      <td>🚀 https://neetcode.io/ - A better way to prepa...</td>\n",
       "      <td>None</td>\n",
       "      <td>2022-07-19T14:00:08Z</td>\n",
       "      <td>183891</td>\n",
       "      <td>5023</td>\n",
       "      <td>None</td>\n",
       "      <td>377</td>\n",
       "      <td>PT7M15S</td>\n",
       "      <td>None</td>\n",
       "      <td>false</td>\n",
       "    </tr>\n",
       "    <tr>\n",
       "      <th>4</th>\n",
       "      <td>DmWirHqCq1s</td>\n",
       "      <td>NeetCode</td>\n",
       "      <td>Best FREE site for coding interviews</td>\n",
       "      <td>🚀 https://neetcode.io/ - A better way to prepa...</td>\n",
       "      <td>None</td>\n",
       "      <td>2022-07-06T15:00:06Z</td>\n",
       "      <td>36040</td>\n",
       "      <td>2684</td>\n",
       "      <td>None</td>\n",
       "      <td>343</td>\n",
       "      <td>PT6M25S</td>\n",
       "      <td>None</td>\n",
       "      <td>false</td>\n",
       "    </tr>\n",
       "  </tbody>\n",
       "</table>\n",
       "</div>"
      ],
      "text/plain": [
       "      video_id channelTitle  \\\n",
       "0  4G5t1HwHQD4     NeetCode   \n",
       "1  TKC98Sumg2A     NeetCode   \n",
       "2  VUVpTZVa7Ls     NeetCode   \n",
       "3  5ueSge4n4bs     NeetCode   \n",
       "4  DmWirHqCq1s     NeetCode   \n",
       "\n",
       "                                               title  \\\n",
       "0                                 How I Coded a SaaS   \n",
       "1  CHANGE YOUR LIFE - Algorithms and Data Structu...   \n",
       "2  Count Vowels Permutation - Dynamic Programming...   \n",
       "3  Working at Google - Tech Stack I Use as a Soft...   \n",
       "4               Best FREE site for coding interviews   \n",
       "\n",
       "                                         description  tags  \\\n",
       "0  🚀 https://neetcode.io/ - 25% OFF LAUNCH SALE\\n...  None   \n",
       "1  🚀 https://neetcode.io/ - 25% OFF LAUNCH SALE\\n...  None   \n",
       "2  🚀 https://neetcode.io/ - A better way to prepa...  None   \n",
       "3  🚀 https://neetcode.io/ - A better way to prepa...  None   \n",
       "4  🚀 https://neetcode.io/ - A better way to prepa...  None   \n",
       "\n",
       "            publishedAt viewCount likeCount favouritrCount commentCount  \\\n",
       "0  2022-09-04T15:00:02Z      1585       158           None           16   \n",
       "1  2022-08-30T14:00:13Z     22688      1164           None          148   \n",
       "2  2022-08-07T01:47:15Z     24472       842           None          112   \n",
       "3  2022-07-19T14:00:08Z    183891      5023           None          377   \n",
       "4  2022-07-06T15:00:06Z     36040      2684           None          343   \n",
       "\n",
       "   duration defination caption  \n",
       "0  PT13M15S       None   false  \n",
       "1   PT5M20S       None   false  \n",
       "2  PT11M46S       None   false  \n",
       "3   PT7M15S       None   false  \n",
       "4   PT6M25S       None   false  "
      ]
     },
     "execution_count": 16,
     "metadata": {},
     "output_type": "execute_result"
    }
   ],
   "source": [
    "video_df = get_video_details(youtube, video_ids)\n",
    "video_df.head()"
   ]
  },
  {
   "cell_type": "code",
   "execution_count": 17,
   "id": "4a06b3e7-a962-4da0-94b4-fae1ead669a7",
   "metadata": {},
   "outputs": [],
   "source": [
    "video_df.to_csv(r'C:\\Users\\MZ Khan\\Desktop\\Courses\\YouTube API\\neetcode.csv')"
   ]
  },
  {
   "cell_type": "code",
   "execution_count": 18,
   "id": "8f67cf06-9b04-4177-aca2-3153640534e2",
   "metadata": {},
   "outputs": [],
   "source": [
    "def get_comments_in_videos(youtube, video_ids):\n",
    "    \n",
    "    all_comments = []\n",
    "    \n",
    "    for video_id in video_ids:\n",
    "        try:   \n",
    "            request = youtube.commentThreads().list(\n",
    "                part=\"snippet,replies\",\n",
    "                videoId=video_id\n",
    "            )\n",
    "            response = request.execute()\n",
    "        \n",
    "            comments_in_video = [comment['snippet']['topLevelComment']['snippet']['textOriginal'] for comment in response['items'][0:10]]\n",
    "            comments_in_video_info = {'video_id': video_id, 'comments': comments_in_video}\n",
    "\n",
    "            all_comments.append(comments_in_video_info)\n",
    "            \n",
    "        except: \n",
    "            # When error occurs - most likely because comments are disabled on a video\n",
    "            print('Could not get comments for video ' + video_id)\n",
    "        \n",
    "    return pd.DataFrame(all_comments)    \n",
    "        "
   ]
  },
  {
   "cell_type": "code",
   "execution_count": null,
   "id": "809b5db8-50a7-492b-9193-add9ec58f8ea",
   "metadata": {},
   "outputs": [],
   "source": [
    "comments = get_comments_in_videos(youtube, video_ids)\n"
   ]
  },
  {
   "cell_type": "code",
   "execution_count": 19,
   "id": "5ddedf42-926e-4613-8306-65cddb059d2c",
   "metadata": {},
   "outputs": [
    {
     "data": {
      "text/html": [
       "<div>\n",
       "<style scoped>\n",
       "    .dataframe tbody tr th:only-of-type {\n",
       "        vertical-align: middle;\n",
       "    }\n",
       "\n",
       "    .dataframe tbody tr th {\n",
       "        vertical-align: top;\n",
       "    }\n",
       "\n",
       "    .dataframe thead th {\n",
       "        text-align: right;\n",
       "    }\n",
       "</style>\n",
       "<table border=\"1\" class=\"dataframe\">\n",
       "  <thead>\n",
       "    <tr style=\"text-align: right;\">\n",
       "      <th></th>\n",
       "      <th>video_id</th>\n",
       "      <th>comments</th>\n",
       "    </tr>\n",
       "  </thead>\n",
       "  <tbody>\n",
       "    <tr>\n",
       "      <th>0</th>\n",
       "      <td>TKC98Sumg2A</td>\n",
       "      <td>[🚀 https://neetcode.io/ - 25% OFF LAUNCH SALE\\...</td>\n",
       "    </tr>\n",
       "    <tr>\n",
       "      <th>1</th>\n",
       "      <td>VUVpTZVa7Ls</td>\n",
       "      <td>[🚀 https://neetcode.io/ - The best FREE site t...</td>\n",
       "    </tr>\n",
       "    <tr>\n",
       "      <th>2</th>\n",
       "      <td>5ueSge4n4bs</td>\n",
       "      <td>[What tech stack do you guys use?\\n\\n🚀 https:/...</td>\n",
       "    </tr>\n",
       "    <tr>\n",
       "      <th>3</th>\n",
       "      <td>DmWirHqCq1s</td>\n",
       "      <td>[Damn, over 100 people already signed up in th...</td>\n",
       "    </tr>\n",
       "    <tr>\n",
       "      <th>4</th>\n",
       "      <td>RegQckCegDk</td>\n",
       "      <td>[Thanks!, your videos are extremely helpful to...</td>\n",
       "    </tr>\n",
       "    <tr>\n",
       "      <th>...</th>\n",
       "      <td>...</td>\n",
       "      <td>...</td>\n",
       "    </tr>\n",
       "    <tr>\n",
       "      <th>323</th>\n",
       "      <td>KLlXCFG5TnA</td>\n",
       "      <td>[🚀 https://neetcode.io/ - I created a FREE sit...</td>\n",
       "    </tr>\n",
       "    <tr>\n",
       "      <th>324</th>\n",
       "      <td>zx5Sw9130L0</td>\n",
       "      <td>[🚀 https://neetcode.io/ - I created a FREE sit...</td>\n",
       "    </tr>\n",
       "    <tr>\n",
       "      <th>325</th>\n",
       "      <td>P6RZZMu_maU</td>\n",
       "      <td>[🚀 https://neetcode.io/ - I created a FREE sit...</td>\n",
       "    </tr>\n",
       "    <tr>\n",
       "      <th>326</th>\n",
       "      <td>m17yOR5_PpI</td>\n",
       "      <td>[💡 GRAPH PLAYLIST: https://www.youtube.com/wat...</td>\n",
       "    </tr>\n",
       "    <tr>\n",
       "      <th>327</th>\n",
       "      <td>ZHjKhUjcsaU</td>\n",
       "      <td>[Timestamps: \\n0:00 - Conceptual brute force s...</td>\n",
       "    </tr>\n",
       "  </tbody>\n",
       "</table>\n",
       "<p>328 rows × 2 columns</p>\n",
       "</div>"
      ],
      "text/plain": [
       "        video_id                                           comments\n",
       "0    TKC98Sumg2A  [🚀 https://neetcode.io/ - 25% OFF LAUNCH SALE\\...\n",
       "1    VUVpTZVa7Ls  [🚀 https://neetcode.io/ - The best FREE site t...\n",
       "2    5ueSge4n4bs  [What tech stack do you guys use?\\n\\n🚀 https:/...\n",
       "3    DmWirHqCq1s  [Damn, over 100 people already signed up in th...\n",
       "4    RegQckCegDk  [Thanks!, your videos are extremely helpful to...\n",
       "..           ...                                                ...\n",
       "323  KLlXCFG5TnA  [🚀 https://neetcode.io/ - I created a FREE sit...\n",
       "324  zx5Sw9130L0  [🚀 https://neetcode.io/ - I created a FREE sit...\n",
       "325  P6RZZMu_maU  [🚀 https://neetcode.io/ - I created a FREE sit...\n",
       "326  m17yOR5_PpI  [💡 GRAPH PLAYLIST: https://www.youtube.com/wat...\n",
       "327  ZHjKhUjcsaU  [Timestamps: \\n0:00 - Conceptual brute force s...\n",
       "\n",
       "[328 rows x 2 columns]"
      ]
     },
     "execution_count": 19,
     "metadata": {},
     "output_type": "execute_result"
    }
   ],
   "source": [
    "comments"
   ]
  },
  {
   "cell_type": "code",
   "execution_count": 20,
   "id": "64a49e4c-0245-457d-a305-afc4cdbf5bd3",
   "metadata": {},
   "outputs": [],
   "source": [
    "comments.to_csv(r'C:\\Users\\MZ Khan\\Desktop\\Courses\\YouTube API\\neetcode_comment.csv')"
   ]
  },
  {
   "cell_type": "markdown",
   "id": "95a09717-dde4-4117-a898-055a6523a150",
   "metadata": {},
   "source": [
    "## Data Preprocessing "
   ]
  },
  {
   "cell_type": "code",
   "execution_count": 21,
   "id": "3e17f40e-90da-4256-b23e-a41864a69988",
   "metadata": {},
   "outputs": [
    {
     "data": {
      "text/plain": [
       "[\"🚀 https://neetcode.io/ - 25% OFF LAUNCH SALE\\n\\nJust to clarify: I'll start making a lot more free videos on the channel, including OOP & System Design soon! The NC150 is free and will remain free forever, I also won't be deleting ANY of the current videos. The current and future courses, however, will be available to Pro members.\",\n",
       " \"Although I'm still a student, I bought prime as soon as I saw it. Because you really helped me a lot on my way to learn programming. Thank you very much!\\n Hope I can find an internship soon.\",\n",
       " 'Hi NC, when the system design course will be out?',\n",
       " 'Lmfao GOAT intro',\n",
       " 'Hi neetcode . I want to know is python is good language to do DSA .does interviewer will allowed me to code in python .',\n",
       " 'This is definitely a steal deal 🔥',\n",
       " 'easiest purchase I’ve ever made',\n",
       " 'Please do with swift languages for iOS dev like me 👨🏽\\u200d💻 I appreciate all your effort and learning experience and hard work. Thanks 🙏',\n",
       " 'I just purchased your course! When can we expect the advanced algorithms course to be live?',\n",
       " 'Wanna buy the course so bad, but my pockets are stoping me.']"
      ]
     },
     "execution_count": 21,
     "metadata": {},
     "output_type": "execute_result"
    }
   ],
   "source": [
    "comments.loc[0]['comments']"
   ]
  },
  {
   "cell_type": "code",
   "execution_count": 22,
   "id": "91b8dafe-d82c-44ff-b29c-59847c7e5872",
   "metadata": {},
   "outputs": [],
   "source": [
    "# Convert count columns to numeric columns\n",
    "numeric_cols = ['subscribers', 'views', 'totalVideos']\n",
    "channel_stats[numeric_cols] = channel_stats[numeric_cols].apply(pd.to_numeric, errors='coerce')"
   ]
  },
  {
   "cell_type": "code",
   "execution_count": 23,
   "id": "6bb23876-28b9-4a14-845d-79836bc95001",
   "metadata": {},
   "outputs": [
    {
     "data": {
      "text/html": [
       "<div>\n",
       "<style scoped>\n",
       "    .dataframe tbody tr th:only-of-type {\n",
       "        vertical-align: middle;\n",
       "    }\n",
       "\n",
       "    .dataframe tbody tr th {\n",
       "        vertical-align: top;\n",
       "    }\n",
       "\n",
       "    .dataframe thead th {\n",
       "        text-align: right;\n",
       "    }\n",
       "</style>\n",
       "<table border=\"1\" class=\"dataframe\">\n",
       "  <thead>\n",
       "    <tr style=\"text-align: right;\">\n",
       "      <th></th>\n",
       "      <th>channelName</th>\n",
       "      <th>subscribers</th>\n",
       "      <th>views</th>\n",
       "      <th>totalVideos</th>\n",
       "      <th>playlistId</th>\n",
       "    </tr>\n",
       "  </thead>\n",
       "  <tbody>\n",
       "    <tr>\n",
       "      <th>0</th>\n",
       "      <td>NeetCode</td>\n",
       "      <td>215000</td>\n",
       "      <td>14981460</td>\n",
       "      <td>328</td>\n",
       "      <td>UU_mYaQAE6-71rjSN6CeCA-g</td>\n",
       "    </tr>\n",
       "  </tbody>\n",
       "</table>\n",
       "</div>"
      ],
      "text/plain": [
       "  channelName  subscribers     views  totalVideos                playlistId\n",
       "0    NeetCode       215000  14981460          328  UU_mYaQAE6-71rjSN6CeCA-g"
      ]
     },
     "execution_count": 23,
     "metadata": {},
     "output_type": "execute_result"
    }
   ],
   "source": [
    "channel_stats"
   ]
  },
  {
   "cell_type": "code",
   "execution_count": 24,
   "id": "ba8d65f9-9be8-41fb-ac2c-bd8a211a1f3c",
   "metadata": {},
   "outputs": [
    {
     "name": "stdout",
     "output_type": "stream",
     "text": [
      "<class 'pandas.core.frame.DataFrame'>\n",
      "RangeIndex: 1 entries, 0 to 0\n",
      "Data columns (total 5 columns):\n",
      " #   Column       Non-Null Count  Dtype \n",
      "---  ------       --------------  ----- \n",
      " 0   channelName  1 non-null      object\n",
      " 1   subscribers  1 non-null      int64 \n",
      " 2   views        1 non-null      int64 \n",
      " 3   totalVideos  1 non-null      int64 \n",
      " 4   playlistId   1 non-null      object\n",
      "dtypes: int64(3), object(2)\n",
      "memory usage: 168.0+ bytes\n"
     ]
    }
   ],
   "source": [
    "channel_stats.info()"
   ]
  }
 ],
 "metadata": {
  "kernelspec": {
   "display_name": "Python 3 (ipykernel)",
   "language": "python",
   "name": "python3"
  },
  "language_info": {
   "codemirror_mode": {
    "name": "ipython",
    "version": 3
   },
   "file_extension": ".py",
   "mimetype": "text/x-python",
   "name": "python",
   "nbconvert_exporter": "python",
   "pygments_lexer": "ipython3",
   "version": "3.9.12"
  }
 },
 "nbformat": 4,
 "nbformat_minor": 5
}
